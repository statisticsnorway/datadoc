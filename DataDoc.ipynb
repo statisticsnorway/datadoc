{
 "cells": [
  {
   "cell_type": "code",
   "execution_count": 4,
   "id": "5ef8c5e7-6637-4bbb-b79b-f11063f62d1b",
   "metadata": {},
   "outputs": [
    {
     "name": "stderr",
     "output_type": "stream",
     "text": [
      "WARNING:datadoc.backend.DataDocMetadata:JUPYTERHUB_USER env variable not set, using default_user@ssb.no as placeholder\n",
      "INFO:datadoc.backend.DataDocMetadata:Opened existing metadata file /Users/bjornandre/code/ssb/mod-sirius/datadoc/klargjorte_data/person_data_v1__DOC.json\n",
      "DEBUG:urllib3.connectionpool:Starting new HTTP connection (1): 127.0.0.1:63581\n",
      "DEBUG:urllib3.connectionpool:http://127.0.0.1:63581 \"GET /_alive_19898711-eaf6-4a07-b2b8-4d4c3349cd57 HTTP/1.1\" 200 5\n",
      "DEBUG:datadoc.frontend.callbacks.utils:Updating language: NORSK_BOKMÅL\n",
      "DEBUG:datadoc.frontend.callbacks.dataset:Received update value = 'PROCESSED_DATA' for metadata_identifier = 'dataset_state'\n",
      "DEBUG:datadoc.frontend.callbacks.dataset:Updating value = 'PROCESSED_DATA' for metadata_identifier = 'dataset_state'\n",
      "DEBUG:datadoc.frontend.callbacks.dataset:Successfully updated dataset_state with PROCESSED_DATA\n"
     ]
    }
   ],
   "source": [
    "from datadoc import main; main(\"./klargjorte_data/person_data_v1.parquet\")"
   ]
  },
  {
   "cell_type": "code",
   "execution_count": null,
   "id": "35df5061-ce21-4722-9272-743b70b07652",
   "metadata": {},
   "outputs": [],
   "source": []
  }
 ],
 "metadata": {
  "interpreter": {
   "hash": "d59f6e9384a094d52d30bff20975cbd1f3d4c53c13e2f48c405d3fc75a05a1f6"
  },
  "kernelspec": {
   "display_name": "Python 3 (ipykernel)",
   "language": "python",
   "name": "python3"
  },
  "language_info": {
   "codemirror_mode": {
    "name": "ipython",
    "version": 3
   },
   "file_extension": ".py",
   "mimetype": "text/x-python",
   "name": "python",
   "nbconvert_exporter": "python",
   "pygments_lexer": "ipython3",
   "version": "3.8.5"
  }
 },
 "nbformat": 4,
 "nbformat_minor": 5
}
