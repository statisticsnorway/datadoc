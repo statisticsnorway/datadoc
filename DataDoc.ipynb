{
 "cells": [
  {
   "cell_type": "code",
   "execution_count": null,
   "id": "5ef8c5e7-6637-4bbb-b79b-f11063f62d1b",
   "metadata": {},
   "outputs": [],
   "source": [
    "from datadoc import main; main(\"./klargjorte_data/person_data_v1.parquet\")"
   ]
  }
 ],
 "metadata": {
  "interpreter": {
   "hash": "d59f6e9384a094d52d30bff20975cbd1f3d4c53c13e2f48c405d3fc75a05a1f6"
  },
  "kernelspec": {
   "display_name": "Python 3 (ipykernel)",
   "language": "python",
   "name": "python3"
  },
  "language_info": {
   "codemirror_mode": {
    "name": "ipython",
    "version": 3
   },
   "file_extension": ".py",
   "mimetype": "text/x-python",
   "name": "python",
   "nbconvert_exporter": "python",
   "pygments_lexer": "ipython3",
   "version": "3.8.12"
  }
 },
 "nbformat": 4,
 "nbformat_minor": 5
}