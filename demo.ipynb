{
 "cells": [
  {
   "cell_type": "code",
   "execution_count": null,
   "id": "5ef8c5e7-6637-4bbb-b79b-f11063f62d1b",
   "metadata": {},
   "outputs": [],
   "source": [
    "import datadoc"
   ]
  },
  {
   "cell_type": "code",
   "execution_count": null,
   "id": "79d4190c",
   "metadata": {},
   "outputs": [],
   "source": [
    "# Dataset stored in a GCS bucket\n",
    "datadoc.main(\"gs://ssb-staging-dapla-felles-data-delt/datadoc/klargjorte_data/person_data_v1.parquet\")"
   ]
  },
  {
   "cell_type": "code",
   "execution_count": null,
   "id": "03d11b90",
   "metadata": {},
   "outputs": [],
   "source": [
    "# Dataset stored in the local filesystem\n",
    "datadoc.main(\"./klargjorte_data/befolkning/person_testdata_p2021-12-31_p2021-12-31_v1.parquet\")"
   ]
  },
  {
   "cell_type": "code",
   "execution_count": null,
   "id": "7b704012-bd79-4390-9902-f61b35329538",
   "metadata": {},
   "outputs": [],
   "source": [
    "# Open your dataset after the app has started\n",
    "datadoc.main()"
   ]
  },
  {
   "cell_type": "code",
   "execution_count": null,
   "id": "63b05fab-16e4-41af-9992-09fbaaa4eb20",
   "metadata": {},
   "outputs": [],
   "source": []
  }
 ],
 "metadata": {
  "kernelspec": {
   "display_name": "datadoc",
   "language": "python",
   "name": "datadoc"
  },
  "language_info": {
   "codemirror_mode": {
    "name": "ipython",
    "version": 3
   },
   "file_extension": ".py",
   "mimetype": "text/x-python",
   "name": "python",
   "nbconvert_exporter": "python",
   "pygments_lexer": "ipython3",
   "version": "3.11.3"
  },
  "vscode": {
   "interpreter": {
    "hash": "62e18fbeb7172c8fb6228a101ab782cf4345e9d504f491793f8010a13357a464"
   }
  }
 },
 "nbformat": 4,
 "nbformat_minor": 5
}
